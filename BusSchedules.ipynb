{
 "cells": [
  {
   "cell_type": "code",
   "execution_count": 2,
   "metadata": {},
   "outputs": [],
   "source": [
    "import requests\n",
    "from bs4 import BeautifulSoup\n",
    "import time\n"
   ]
  },
  {
   "cell_type": "code",
   "execution_count": 3,
   "metadata": {},
   "outputs": [],
   "source": [
    "url = \"https://www.transitbangkok.com/bangkok_bus_routes.php\"\n",
    "data = requests.get(url)\n",
    "soup = BeautifulSoup(data.text,'html.parser')\n",
    "x = soup.find_all(\"a\",{\"class\":\"blink\"}) # <- ค่าที่ใช้ในการค้นหา\n",
    "busLine = []\n",
    "for i in x:\n",
    "    busLine.append(i.text)"
   ]
  },
  {
   "cell_type": "code",
   "execution_count": 4,
   "metadata": {},
   "outputs": [
    {
     "name": "stdout",
     "output_type": "stream",
     "text": [
      "1\n"
     ]
    }
   ],
   "source": [
    "baseURL = \"https://www.transitbangkok.com/lines/bangkok-bus-line/\"\n",
    "busRoute = {}\n",
    "for i in busLine:\n",
    "    try:\n",
    "        temp = {}\n",
    "        temp['inBound'] = []\n",
    "        temp['outBound'] = []\n",
    "\n",
    "        data = requests.get(baseURL+i)\n",
    "        soup = BeautifulSoup(data.text,'html.parser')\n",
    "        x = soup.findAll(\"div\",{\"class\":\"pair\"})\n",
    "\n",
    "        count = 0\n",
    "        for j in x:\n",
    "            pair = j.text.split(\".\")\n",
    "            if(pair[0] == '1'):\n",
    "                count+=1\n",
    "            if(count < 2):\n",
    "                temp['inBound'].append(pair[1].strip())\n",
    "            else:\n",
    "                temp['outBound'].append(pair[1].strip())\n",
    "\n",
    "\n",
    "        print(i)\n",
    "        busRoute[i] = temp\n",
    "        break\n",
    "    except:\n",
    "        print('Error: ',i)\n"
   ]
  },
  {
   "cell_type": "code",
   "execution_count": 5,
   "metadata": {},
   "outputs": [
    {
     "name": "stdout",
     "output_type": "stream",
     "text": [
      "End\n"
     ]
    }
   ],
   "source": [
    "stop = {}\n",
    "for key in busRoute:\n",
    "    temp = busRoute[key]\n",
    "    \n",
    "    for i in range(len(temp['inBound'])):\n",
    "        if temp['inBound'][i] not in stop:\n",
    "            stop[temp['inBound'][i]] = []\n",
    "        \n",
    "        try:\n",
    "            stop[temp['inBound'][i]].append(temp['inBound'][i+1])\n",
    "        except:\n",
    "            print('End')\n",
    "    "
   ]
  },
  {
   "cell_type": "code",
   "execution_count": null,
   "metadata": {},
   "outputs": [],
   "source": [
    "stop"
   ]
  },
  {
   "cell_type": "code",
   "execution_count": null,
   "metadata": {},
   "outputs": [],
   "source": []
  }
 ],
 "metadata": {
  "kernelspec": {
   "display_name": "Python 3",
   "language": "python",
   "name": "python3"
  },
  "language_info": {
   "codemirror_mode": {
    "name": "ipython",
    "version": 3
   },
   "file_extension": ".py",
   "mimetype": "text/x-python",
   "name": "python",
   "nbconvert_exporter": "python",
   "pygments_lexer": "ipython3",
   "version": "3.6.0"
  }
 },
 "nbformat": 4,
 "nbformat_minor": 2
}
