{
 "cells": [
  {
   "cell_type": "code",
   "execution_count": 35,
   "metadata": {},
   "outputs": [],
   "source": [
    "import requests\n",
    "from bs4 import BeautifulSoup\n",
    "import time\n",
    "import requests\n",
    "import json"
   ]
  },
  {
   "cell_type": "markdown",
   "metadata": {},
   "source": [
    "# Test"
   ]
  },
  {
   "cell_type": "code",
   "execution_count": 31,
   "metadata": {},
   "outputs": [
    {
     "name": "stdout",
     "output_type": "stream",
     "text": [
      "['/stations/Bangkok%20Bus/Opposite%20Charoen%20Krung%20Hospital']\n",
      "13.694032\n",
      "100.493451\n"
     ]
    }
   ],
   "source": [
    "url = baseURL = \"https://www.transitbangkok.com/lines/bangkok-bus-line/1\"\n",
    "stopURL = \"https://www.transitbangkok.com/stations\"\n",
    "data = requests.get(url)\n",
    "soup = BeautifulSoup(data.text,'html.parser')\n",
    "x = soup.findAll(\"div\",{\"class\":\"pair\"}) # <- ค่าที่ใช้ในการค้นหา\n",
    "busLine = []\n",
    "for i in x:\n",
    "    busLine.append(i.a['href'])\n",
    "    data2 = requests.get(stopURL+i.a['href'])\n",
    "    soup2 = BeautifulSoup(data2.text,'html.parser')\n",
    "    lat = soup2.find(\"meta\",{\"itemprop\":\"latitude\"})\n",
    "    long = soup2.find(\"meta\",{\"itemprop\":\"longitude\"})\n",
    "    \n",
    "    break;\n",
    "print(busLine)\n",
    "print(lat['content'])\n",
    "print(long['content'])"
   ]
  },
  {
   "cell_type": "markdown",
   "metadata": {},
   "source": [
    "# get Classified traffic flow Function"
   ]
  },
  {
   "cell_type": "code",
   "execution_count": 36,
   "metadata": {},
   "outputs": [],
   "source": [
    "def getFlow( latitude, longitude):\n",
    "    '''\n",
    "    The current average speed at the selected point, in the unit requested.\n",
    "    This is calculated from the currentTravelTime and the length of the selected segment.\n",
    "    '''\n",
    "    result = requests.get(\"https://api.tomtom.com/traffic/services/4/flowSegmentData/absolute/10/json?point=\"+latitude+\"%2C\"+longitude+\"&unit=KMPH&key=f2HAt6L5kzxCtl4r0td0MDdClu9nsAGe\")\n",
    "    speed = result.json()['flowSegmentData']['currentSpeed']\n",
    "    \n",
    "    if speed > 80: return 5, speed\n",
    "    if speed > 60: return 4, speed\n",
    "    if speed > 40: return 3, speed\n",
    "    if speed > 20: return 2, speed\n",
    "    else: return 1, speed"
   ]
  },
  {
   "cell_type": "markdown",
   "metadata": {},
   "source": [
    "# List BusLine"
   ]
  },
  {
   "cell_type": "code",
   "execution_count": 37,
   "metadata": {},
   "outputs": [],
   "source": [
    "url = \"https://www.transitbangkok.com/bangkok_bus_routes.php\"\n",
    "data = requests.get(url)\n",
    "soup = BeautifulSoup(data.text,'html.parser')\n",
    "x = soup.find_all(\"a\",{\"class\":\"blink\"}) # <- ค่าที่ใช้ในการค้นหา\n",
    "busLine = []\n",
    "for i in x:\n",
    "    busLine.append(i.text)"
   ]
  },
  {
   "cell_type": "markdown",
   "metadata": {},
   "source": [
    "# Get Detail"
   ]
  },
  {
   "cell_type": "code",
   "execution_count": 74,
   "metadata": {},
   "outputs": [
    {
     "name": "stdout",
     "output_type": "stream",
     "text": [
      "['1', ' Opposite Charoen Krung Hospital']\n",
      "['2', ' Talat Bangkholaem, Charoen Krung Soi 84']\n",
      "['3', ' Wat Lat Bua Khao']\n",
      "['4', ' Wat Phraya Krai']\n",
      "['5', ' Asiatique The Riverfont']\n",
      "['6', ' Wat Rat Singkhon']\n",
      "['7', ' Menam Riverside Plaza (Mamada),Phana Siri']\n",
      "['8', ' Opposite Baan Mai']\n",
      "['9', ' Samnakngan Praisani Wat Phraya Krai']\n",
      "['10', ' Ongkan Saphanpla']\n",
      "['11', ' Wat Suthi']\n",
      "['12', ' Rongrian Satri Si Suriyo Thai , Krom U Thahan Ruea']\n",
      "['13', ' Wat Yan Nawa']\n",
      "['14', ' Robinson Bangrak']\n",
      "['15', ' Assumption College']\n",
      "['16', ' Talat Noi']\n",
      "['17', ' Song Wat']\n",
      "['18', ' Thianfah Hospital']\n",
      "['19', ' Chaloemburi Intersection']\n",
      "['20', ' Old Market Yaowarat']\n",
      "['21', ' Wat Tuk']\n",
      "['22', ' Wangburapa']\n",
      "['23', ' Chaloem Krung']\n",
      "['24', ' Territorial Defense Command']\n",
      "['1', ' Territorial Defense Command']\n",
      "['2', ' Opposite Charachon Klang']\n",
      "['3', ' Opposite Chalermkrung']\n",
      "['4', ' Sin Dam Rong']\n",
      "['5', ' Klongthom (Charoenkrung Side)']\n",
      "['6', ' Kwongsiew Hospital']\n",
      "['7', ' Odeon Circle']\n",
      "['8', ' Thanon Khaolam']\n",
      "['9', ' Hua Lamphong Intersection']\n",
      "['10', ' Wat Mahapruttaram']\n",
      "['11', ' Siphaya']\n",
      "['12', ' Wat Kaeo Chaem Fa']\n",
      "['13', ' Sono Bang Rak']\n",
      "['14', ' Ongkan Thorasap']\n",
      "['15', ' Mahesak']\n",
      "['16', ' O Rian Ten']\n",
      "['17', ' Opposite Robinson Bangrak']\n",
      "['18', ' Opposite Wat Yan Nawa']\n",
      "['19', ' Rajamagala University Of Technology Krungthep (South Bangkok Campus)']\n",
      "['20', ' Opposite Wat Sutthi']\n",
      "['21', ' Opposite Saphanpla']\n",
      "['22', ' Trok Ba Yan']\n",
      "['23', ' Opposite Rongraem Maenam']\n",
      "['24', ' Wat Rat Singkhon Opposite']\n",
      "['25', ' Charoen Krung 93']\n",
      "['26', ' Watprayakai Police Station']\n",
      "['27', ' Opposite Wat Lat Bua Khao']\n",
      "['28', ' Talat Bangkholaem']\n",
      "['29', ' Charoen Krung Hospital']\n"
     ]
    }
   ],
   "source": [
    "baseURL = \"https://www.transitbangkok.com/lines/bangkok-bus-line/\"\n",
    "stopURL = \"https://www.transitbangkok.com/stations\"\n",
    "stopMap = {}\n",
    "speedMap = {}\n",
    "StopLocation = {}\n",
    "countStop = 1\n",
    "stopConnect = []\n",
    "\n",
    "r = 0\n",
    "for i in busLine:\n",
    "    \n",
    "\n",
    "    \n",
    "    try:\n",
    "        print(\"Done: \",i)\n",
    "        data = requests.get(baseURL+i)\n",
    "        soup = BeautifulSoup(data.text,'html.parser')\n",
    "        x = soup.findAll(\"div\",{\"class\":\"pair\"})\n",
    "\n",
    "        preStop = ''\n",
    "        for j in x:\n",
    "            temp = []\n",
    "\n",
    "            pair = j.text.split(\".\")\n",
    "            print(j.text.split(\".\"))\n",
    "            if(pair[1].strip() not in stopMap):\n",
    "                    stopMap[pair[1].strip()] = countStop\n",
    "                    countStop+=1\n",
    "\n",
    "            data2 = requests.get(stopURL+j.a['href'])\n",
    "            soup2 = BeautifulSoup(data2.text,'html.parser')\n",
    "\n",
    "            latLong = []\n",
    "            if(pair[1].strip() not in speedMap):\n",
    "\n",
    "                    lat = soup2.find(\"meta\",{\"itemprop\":\"latitude\"})\n",
    "                    long = soup2.find(\"meta\",{\"itemprop\":\"longitude\"})\n",
    "                    speedMap[pair[1].strip()] = getFlow( lat['content'], long['content'])[0]\n",
    "\n",
    "                    latLong.append(lat['content']) #lat\n",
    "                    latLong.append(long['content']) #long\n",
    "                    StopLocation[pair[1].strip()] = latLong\n",
    "\n",
    "            if pair[0] == '1':\n",
    "                preStop = pair[1].strip()\n",
    "                continue\n",
    "\n",
    "\n",
    "            temp.append(stopMap[preStop])#start station\n",
    "            preStop = pair[1].strip()\n",
    "\n",
    "            temp.append(stopMap[pair[1].strip()]) # stop station\n",
    "\n",
    "            temp.append(i) # route\n",
    "\n",
    "\n",
    "    #         temp.append(getFlow( lat['content'], long['content'])[0]) #traffic\n",
    "\n",
    "            stopConnect.append(temp)\n",
    "    except:\n",
    "        print(\"Error: \",i)\n",
    "#     break\n"
   ]
  },
  {
   "cell_type": "code",
   "execution_count": 75,
   "metadata": {},
   "outputs": [
    {
     "name": "stdout",
     "output_type": "stream",
     "text": [
      "Total bus station 52\n"
     ]
    }
   ],
   "source": [
    "print(\"Total bus station\",len(stopMap))"
   ]
  },
  {
   "cell_type": "code",
   "execution_count": 76,
   "metadata": {},
   "outputs": [
    {
     "name": "stdout",
     "output_type": "stream",
     "text": [
      "Opposite Charoen Krung Hospital 1\n",
      "Talat Bangkholaem, Charoen Krung Soi 84 2\n",
      "Wat Lat Bua Khao 3\n",
      "Wat Phraya Krai 4\n",
      "Asiatique The Riverfont 5\n",
      "Wat Rat Singkhon 6\n",
      "Menam Riverside Plaza (Mamada),Phana Siri 7\n",
      "Opposite Baan Mai 8\n",
      "Samnakngan Praisani Wat Phraya Krai 9\n",
      "Ongkan Saphanpla 10\n",
      "Wat Suthi 11\n",
      "Rongrian Satri Si Suriyo Thai , Krom U Thahan Ruea 12\n",
      "Wat Yan Nawa 13\n",
      "Robinson Bangrak 14\n",
      "Assumption College 15\n",
      "Talat Noi 16\n",
      "Song Wat 17\n",
      "Thianfah Hospital 18\n",
      "Chaloemburi Intersection 19\n",
      "Old Market Yaowarat 20\n",
      "Wat Tuk 21\n",
      "Wangburapa 22\n",
      "Chaloem Krung 23\n",
      "Territorial Defense Command 24\n",
      "Opposite Charachon Klang 25\n",
      "Opposite Chalermkrung 26\n",
      "Sin Dam Rong 27\n",
      "Klongthom (Charoenkrung Side) 28\n",
      "Kwongsiew Hospital 29\n",
      "Odeon Circle 30\n",
      "Thanon Khaolam 31\n",
      "Hua Lamphong Intersection 32\n",
      "Wat Mahapruttaram 33\n",
      "Siphaya 34\n",
      "Wat Kaeo Chaem Fa 35\n",
      "Sono Bang Rak 36\n",
      "Ongkan Thorasap 37\n",
      "Mahesak 38\n",
      "O Rian Ten 39\n",
      "Opposite Robinson Bangrak 40\n",
      "Opposite Wat Yan Nawa 41\n",
      "Rajamagala University Of Technology Krungthep (South Bangkok Campus) 42\n",
      "Opposite Wat Sutthi 43\n",
      "Opposite Saphanpla 44\n",
      "Trok Ba Yan 45\n",
      "Opposite Rongraem Maenam 46\n",
      "Wat Rat Singkhon Opposite 47\n",
      "Charoen Krung 93 48\n",
      "Watprayakai Police Station 49\n",
      "Opposite Wat Lat Bua Khao 50\n",
      "Talat Bangkholaem 51\n",
      "Charoen Krung Hospital 52\n"
     ]
    }
   ],
   "source": [
    "for key in stopMap:\n",
    "    print(key, stopMap[key])"
   ]
  },
  {
   "cell_type": "code",
   "execution_count": 77,
   "metadata": {},
   "outputs": [
    {
     "name": "stdout",
     "output_type": "stream",
     "text": [
      "Opposite Charoen Krung Hospital 4\n",
      "Talat Bangkholaem, Charoen Krung Soi 84 2\n",
      "Wat Lat Bua Khao 2\n",
      "Wat Phraya Krai 2\n",
      "Asiatique The Riverfont 2\n",
      "Wat Rat Singkhon 2\n",
      "Menam Riverside Plaza (Mamada),Phana Siri 2\n",
      "Opposite Baan Mai 2\n",
      "Samnakngan Praisani Wat Phraya Krai 2\n",
      "Ongkan Saphanpla 2\n",
      "Wat Suthi 2\n",
      "Rongrian Satri Si Suriyo Thai , Krom U Thahan Ruea 2\n",
      "Wat Yan Nawa 2\n",
      "Robinson Bangrak 2\n",
      "Assumption College 2\n",
      "Talat Noi 1\n",
      "Song Wat 1\n",
      "Thianfah Hospital 2\n",
      "Chaloemburi Intersection 1\n",
      "Old Market Yaowarat 1\n",
      "Wat Tuk 2\n",
      "Wangburapa 2\n",
      "Chaloem Krung 2\n",
      "Territorial Defense Command 2\n",
      "Opposite Charachon Klang 1\n",
      "Opposite Chalermkrung 2\n",
      "Sin Dam Rong 1\n",
      "Klongthom (Charoenkrung Side) 2\n",
      "Kwongsiew Hospital 2\n",
      "Odeon Circle 2\n",
      "Thanon Khaolam 2\n",
      "Hua Lamphong Intersection 2\n",
      "Wat Mahapruttaram 1\n",
      "Siphaya 2\n",
      "Wat Kaeo Chaem Fa 2\n",
      "Sono Bang Rak 2\n",
      "Ongkan Thorasap 2\n",
      "Mahesak 2\n",
      "O Rian Ten 1\n",
      "Opposite Robinson Bangrak 1\n",
      "Opposite Wat Yan Nawa 2\n",
      "Rajamagala University Of Technology Krungthep (South Bangkok Campus) 2\n",
      "Opposite Wat Sutthi 2\n",
      "Opposite Saphanpla 2\n",
      "Trok Ba Yan 2\n",
      "Opposite Rongraem Maenam 1\n",
      "Wat Rat Singkhon Opposite 1\n",
      "Charoen Krung 93 1\n",
      "Watprayakai Police Station 2\n",
      "Opposite Wat Lat Bua Khao 2\n",
      "Talat Bangkholaem 2\n",
      "Charoen Krung Hospital 1\n"
     ]
    }
   ],
   "source": [
    "for key in speedMap:\n",
    "    print(key, speedMap[key])"
   ]
  },
  {
   "cell_type": "code",
   "execution_count": 79,
   "metadata": {},
   "outputs": [
    {
     "name": "stdout",
     "output_type": "stream",
     "text": [
      "Opposite Charoen Krung Hospital ['13.694032', '100.493451']\n",
      "Talat Bangkholaem, Charoen Krung Soi 84 ['13.698548', '100.498479']\n",
      "Wat Lat Bua Khao ['13.699873', '100.500007']\n",
      "Wat Phraya Krai ['13.702050', '100.502374']\n",
      "Asiatique The Riverfont ['13.703491', '100.503947']\n",
      "Wat Rat Singkhon ['13.704625', '100.505230']\n",
      "Menam Riverside Plaza (Mamada),Phana Siri ['13.705930', '100.506680']\n",
      "Opposite Baan Mai ['13.707373', '100.508289']\n",
      "Samnakngan Praisani Wat Phraya Krai ['13.708762', '100.509817']\n",
      "Ongkan Saphanpla ['13.711593', '100.512013']\n",
      "Wat Suthi ['13.713453', '100.512866']\n",
      "Rongrian Satri Si Suriyo Thai , Krom U Thahan Ruea ['13.715180', '100.513573']\n",
      "Wat Yan Nawa ['13.716507', '100.514189']\n",
      "Robinson Bangrak ['13.720529', '100.515853']\n",
      "Assumption College ['13.724577', '100.516183']\n",
      "Talat Noi ['13.732740', '100.514543']\n",
      "Song Wat ['13.735505', '100.513692']\n",
      "Thianfah Hospital ['13.738459', '100.512286']\n",
      "Chaloemburi Intersection ['13.739646', '100.510891']\n",
      "Old Market Yaowarat ['13.741680', '100.507527']\n",
      "Wat Tuk ['13.743645', '100.505403']\n",
      "Wangburapa ['13.745548', '100.502710']\n",
      "Chaloem Krung ['13.747101', '100.498612']\n",
      "Territorial Defense Command ['13.747254', '100.495071']\n",
      "Opposite Charachon Klang ['13.747265', '100.498089']\n",
      "Opposite Chalermkrung ['13.747135', '100.500686']\n",
      "Sin Dam Rong ['13.747112', '100.501709']\n",
      "Klongthom (Charoenkrung Side) ['13.744199', '100.507681']\n",
      "Kwongsiew Hospital ['13.741027', '100.511686']\n",
      "Odeon Circle ['13.738661', '100.512895']\n",
      "Thanon Khaolam ['13.736733', '100.514741']\n",
      "Hua Lamphong Intersection ['13.736545', '100.516094']\n",
      "Wat Mahapruttaram ['13.732460', '100.515718']\n",
      "Siphaya ['13.730390', '100.516911']\n",
      "Wat Kaeo Chaem Fa ['13.730875', '100.519542']\n",
      "Sono Bang Rak ['13.730078', '100.523462']\n",
      "Ongkan Thorasap ['13.727251', '100.523013']\n",
      "Mahesak ['13.726124', '100.519533']\n",
      "O Rian Ten ['13.724822', '100.516334']\n",
      "Opposite Robinson Bangrak ['13.720053', '100.515828']\n",
      "Opposite Wat Yan Nawa ['13.717142', '100.514609']\n",
      "Rajamagala University Of Technology Krungthep (South Bangkok Campus) ['13.715723', '100.514041']\n",
      "Opposite Wat Sutthi ['13.712936', '100.512813']\n",
      "Opposite Saphanpla ['13.711456', '100.512116']\n",
      "Trok Ba Yan ['13.709091', '100.510448']\n",
      "Opposite Rongraem Maenam ['13.706148', '100.507191']\n",
      "Wat Rat Singkhon Opposite ['13.704929', '100.505763']\n",
      "Charoen Krung 93 ['13.703706', '100.504397']\n",
      "Watprayakai Police Station ['13.702377', '100.502975']\n",
      "Opposite Wat Lat Bua Khao ['13.700356', '100.500733']\n",
      "Talat Bangkholaem ['13.698306', '100.498445']\n",
      "Charoen Krung Hospital ['13.693849', '100.493489']\n"
     ]
    }
   ],
   "source": [
    "for key in StopLocation:\n",
    "    print(key,StopLocation[key])"
   ]
  },
  {
   "cell_type": "code",
   "execution_count": 80,
   "metadata": {},
   "outputs": [
    {
     "data": {
      "text/plain": [
       "[[1, 2, '1'],\n",
       " [2, 3, '1'],\n",
       " [3, 4, '1'],\n",
       " [4, 5, '1'],\n",
       " [5, 6, '1'],\n",
       " [6, 7, '1'],\n",
       " [7, 8, '1'],\n",
       " [8, 9, '1'],\n",
       " [9, 10, '1'],\n",
       " [10, 11, '1'],\n",
       " [11, 12, '1'],\n",
       " [12, 13, '1'],\n",
       " [13, 14, '1'],\n",
       " [14, 15, '1'],\n",
       " [15, 16, '1'],\n",
       " [16, 17, '1'],\n",
       " [17, 18, '1'],\n",
       " [18, 19, '1'],\n",
       " [19, 20, '1'],\n",
       " [20, 21, '1'],\n",
       " [21, 22, '1'],\n",
       " [22, 23, '1'],\n",
       " [23, 24, '1'],\n",
       " [24, 25, '1'],\n",
       " [25, 26, '1'],\n",
       " [26, 27, '1'],\n",
       " [27, 28, '1'],\n",
       " [28, 29, '1'],\n",
       " [29, 30, '1'],\n",
       " [30, 31, '1'],\n",
       " [31, 32, '1'],\n",
       " [32, 33, '1'],\n",
       " [33, 34, '1'],\n",
       " [34, 35, '1'],\n",
       " [35, 36, '1'],\n",
       " [36, 37, '1'],\n",
       " [37, 38, '1'],\n",
       " [38, 39, '1'],\n",
       " [39, 40, '1'],\n",
       " [40, 41, '1'],\n",
       " [41, 42, '1'],\n",
       " [42, 43, '1'],\n",
       " [43, 44, '1'],\n",
       " [44, 45, '1'],\n",
       " [45, 46, '1'],\n",
       " [46, 47, '1'],\n",
       " [47, 48, '1'],\n",
       " [48, 49, '1'],\n",
       " [49, 50, '1'],\n",
       " [50, 51, '1'],\n",
       " [51, 52, '1']]"
      ]
     },
     "execution_count": 80,
     "metadata": {},
     "output_type": "execute_result"
    }
   ],
   "source": [
    "stopConnect"
   ]
  },
  {
   "cell_type": "code",
   "execution_count": 8,
   "metadata": {},
   "outputs": [],
   "source": [
    "import pandas as pd \n",
    "stopConnectDf = pd.DataFrame(stopConnect)\n",
    "stopConnectDf.columns = ['Start Station','Destination Station','Route']\n",
    "stopConnectDf.to_csv(\"stopConnect.csv\")"
   ]
  },
  {
   "cell_type": "code",
   "execution_count": null,
   "metadata": {},
   "outputs": [],
   "source": [
    "stopMapDf = pd.DataFrame(list(stopMap.items()), columns=['Station Name', 'Number'])\n",
    "stopMapDf.to_csv(\"stopMap.csv\")\n",
    "\n",
    "speedMapDf = pd.DataFrame(list(speedMap.items()), columns=['Station Name', 'Speed'])\n",
    "speedMapDf.to_csv(\"speedMap.csv\")\n",
    "\n",
    "StopLocationDf = pd.DataFrame(list(StopLocation.items()), columns=['Station Name', 'Lat', 'Long'])\n",
    "StopLocationDf.to_csv(\"StopLocationDf.csv\")"
   ]
  },
  {
   "cell_type": "code",
   "execution_count": null,
   "metadata": {},
   "outputs": [],
   "source": [
    "baseURL = \"https://www.transitbangkok.com/lines/bangkok-bus-line/\""
   ]
  },
  {
   "cell_type": "code",
   "execution_count": 42,
   "metadata": {},
   "outputs": [
    {
     "data": {
      "text/plain": [
       "3"
      ]
     },
     "execution_count": 42,
     "metadata": {},
     "output_type": "execute_result"
    }
   ],
   "source": [
    "getFlow(\"13.8005821\",\"100.327213\")[0]"
   ]
  },
  {
   "cell_type": "code",
   "execution_count": null,
   "metadata": {},
   "outputs": [],
   "source": []
  }
 ],
 "metadata": {
  "kernelspec": {
   "display_name": "Python 3",
   "language": "python",
   "name": "python3"
  },
  "language_info": {
   "codemirror_mode": {
    "name": "ipython",
    "version": 3
   },
   "file_extension": ".py",
   "mimetype": "text/x-python",
   "name": "python",
   "nbconvert_exporter": "python",
   "pygments_lexer": "ipython3",
   "version": "3.6.0"
  }
 },
 "nbformat": 4,
 "nbformat_minor": 2
}
